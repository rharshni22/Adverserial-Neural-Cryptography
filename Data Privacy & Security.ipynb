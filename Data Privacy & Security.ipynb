{
  "nbformat": 4,
  "nbformat_minor": 0,
  "metadata": {
    "colab": {
      "name": "DPS.ipynb",
      "provenance": [],
      "collapsed_sections": []
    },
    "kernelspec": {
      "name": "python3",
      "display_name": "Python 3"
    }
  },
  "cells": [
    {
      "cell_type": "code",
      "metadata": {
        "id": "BJibOla2cV6H",
        "colab_type": "code",
        "colab": {}
      },
      "source": [
        "\n",
        "import matplotlib\n",
        "import matplotlib.pyplot as plt\n",
        "import numpy as np\n",
        "import pandas as pd\n",
        "import sys\n",
        "\n",
        "from keras import backend as K\n",
        "from keras.layers.core import Activation, Dense\n",
        "from keras.layers import Flatten, Reshape\n",
        "from keras.engine.input_layer import Input\n",
        "from keras.optimizers import Adam, RMSprop\n",
        "from keras.layers.convolutional import Conv1D\n",
        "from keras.layers.merge import concatenate\n",
        "from keras.models import Model\n",
        "\n"
      ],
      "execution_count": null,
      "outputs": []
    },
    {
      "cell_type": "code",
      "metadata": {
        "id": "VfM4OfKG6eYM",
        "colab_type": "code",
        "colab": {}
      },
      "source": [
        "msg = 16\n",
        "key = 16\n",
        "cipher = 16"
      ],
      "execution_count": null,
      "outputs": []
    },
    {
      "cell_type": "code",
      "metadata": {
        "id": "eiH5dDiqaOOF",
        "colab_type": "code",
        "colab": {}
      },
      "source": [
        "K.clear_session()\n",
        "pad = 'same'\n",
        "\n",
        "alice_msg = Input(shape=(msg,)) \n",
        "alice_key = Input(shape=(key,)) \n",
        "alice_input = concatenate([alice_msg, alice_key], axis=1)\n",
        "\n",
        "\n",
        "alice_fc1 = Dense(units=(msg + key))(alice_input)\n",
        "alice_fc1a = Activation('tanh')(alice_fc1)\n",
        "alice_reshape = Reshape((msg + key, 1,))(alice_fc1a)\n",
        "\n",
        "aconv1 = Conv1D(filters=2, kernel_size=4, strides=1, padding=pad)(alice_reshape)\n",
        "aconv1a = Activation('tanh')(aconv1)\n",
        "aconv2 = Conv1D(filters=4, kernel_size=2, strides=2, padding=pad)(aconv1a)\n",
        "aconv2a = Activation('tanh')(aconv2)\n",
        "aconv3 = Conv1D(filters=4, kernel_size=1, strides=1, padding=pad)(aconv2a)\n",
        "aconv3a = Activation('tanh')(aconv3)\n",
        "aconv4 = Conv1D(filters=1, kernel_size=1, strides=1, padding=pad)(aconv3a)\n",
        "aconv4a = Activation('sigmoid')(aconv4)\n",
        "\n",
        "alice_output = Flatten()(aconv4a)\n",
        "\n",
        "alice = Model([alice_msg, alice_key], alice_output, name='alice')\n"
      ],
      "execution_count": null,
      "outputs": []
    },
    {
      "cell_type": "code",
      "metadata": {
        "id": "akp1EGMwaTlw",
        "colab_type": "code",
        "colab": {}
      },
      "source": [
        "bob_cipher = Input(shape=(cipher,)) \n",
        "bob_key = Input(shape=(key,)) \n",
        "bob_input = concatenate([bob_cipher, bob_key], axis=1)\n",
        "\n",
        "bob_fc1 = Dense(units=(cipher + key))(bob_input)\n",
        "bob_fc1a = Activation('tanh')(bob_fc1)\n",
        "\n",
        "bob_reshape = Reshape((cipher + key, 1,))(bob_fc1a)\n",
        "\n",
        "bconv1 = Conv1D(filters=2, kernel_size=4, strides=1, padding=pad)(bob_reshape)\n",
        "bconv1a = Activation('tanh')(bconv1)\n",
        "bconv2 = Conv1D(filters=4, kernel_size=2, strides=2, padding=pad)(bconv1a)\n",
        "bconv2a = Activation('tanh')(bconv2)\n",
        "bconv3 = Conv1D(filters=4, kernel_size=1, strides=1, padding=pad)(bconv2a)\n",
        "bconv3a = Activation('tanh')(bconv3)\n",
        "bconv4 = Conv1D(filters=1, kernel_size=1, strides=1, padding=pad)(bconv3a)\n",
        "bconv4a = Activation('sigmoid')(bconv4)\n",
        "\n",
        "bob_output = Flatten()(bconv4a)\n",
        "\n",
        "bob = Model([bob_cipher, bob_key], bob_output, name='bob')\n",
        "\n"
      ],
      "execution_count": null,
      "outputs": []
    },
    {
      "cell_type": "code",
      "metadata": {
        "id": "5uWF-JbTchw6",
        "colab_type": "code",
        "colab": {
          "base_uri": "https://localhost:8080/",
          "height": 646
        },
        "outputId": "66235a0b-bccd-4af1-da93-03c80d44b8a2"
      },
      "source": [
        "\n",
        "eve_cipher = Input(shape=(cipher,)) \n",
        "\n",
        "eve_fc1 = Dense(units=(cipher + key))(eve_cipher)\n",
        "eve_fc1a = Activation('tanh')(eve_fc1)\n",
        "\n",
        "eve_fc2 = Dense(units=(cipher + key))(eve_fc1a)\n",
        "eve_fc2a = Activation('tanh')(eve_fc2)\n",
        "\n",
        "eve_reshape = Reshape((cipher + key, 1,))(eve_fc2a)\n",
        "\n",
        "econv1 = Conv1D(filters=2, kernel_size=4, strides=1, padding=pad)(eve_reshape)\n",
        "econv1a = Activation('tanh')(econv1)\n",
        "econv2 = Conv1D(filters=4, kernel_size=2, strides=2, padding=pad)(econv1a)\n",
        "econv2a = Activation('tanh')(econv2)\n",
        "econv3 = Conv1D(filters=4, kernel_size=1, strides=1, padding=pad)(econv2a)\n",
        "econv3a = Activation('tanh')(econv3)\n",
        "econv4 = Conv1D(filters=1, kernel_size=1, strides=1, padding=pad)(econv3a)\n",
        "econv4a = Activation('sigmoid')(econv4)\n",
        "\n",
        "eve_output = Flatten()(econv4a)\n",
        "\n",
        "eve = Model(eve_cipher, eve_output, name='eve')\n",
        "eve.summary()"
      ],
      "execution_count": null,
      "outputs": [
        {
          "output_type": "stream",
          "text": [
            "_________________________________________________________________\n",
            "Layer (type)                 Output Shape              Param #   \n",
            "=================================================================\n",
            "input_5 (InputLayer)         (None, 16)                0         \n",
            "_________________________________________________________________\n",
            "dense_3 (Dense)              (None, 32)                544       \n",
            "_________________________________________________________________\n",
            "activation_11 (Activation)   (None, 32)                0         \n",
            "_________________________________________________________________\n",
            "dense_4 (Dense)              (None, 32)                1056      \n",
            "_________________________________________________________________\n",
            "activation_12 (Activation)   (None, 32)                0         \n",
            "_________________________________________________________________\n",
            "reshape_3 (Reshape)          (None, 32, 1)             0         \n",
            "_________________________________________________________________\n",
            "conv1d_9 (Conv1D)            (None, 32, 2)             10        \n",
            "_________________________________________________________________\n",
            "activation_13 (Activation)   (None, 32, 2)             0         \n",
            "_________________________________________________________________\n",
            "conv1d_10 (Conv1D)           (None, 16, 4)             20        \n",
            "_________________________________________________________________\n",
            "activation_14 (Activation)   (None, 16, 4)             0         \n",
            "_________________________________________________________________\n",
            "conv1d_11 (Conv1D)           (None, 16, 4)             20        \n",
            "_________________________________________________________________\n",
            "activation_15 (Activation)   (None, 16, 4)             0         \n",
            "_________________________________________________________________\n",
            "conv1d_12 (Conv1D)           (None, 16, 1)             5         \n",
            "_________________________________________________________________\n",
            "activation_16 (Activation)   (None, 16, 1)             0         \n",
            "_________________________________________________________________\n",
            "flatten_3 (Flatten)          (None, 16)                0         \n",
            "=================================================================\n",
            "Total params: 1,655\n",
            "Trainable params: 1,655\n",
            "Non-trainable params: 0\n",
            "_________________________________________________________________\n"
          ],
          "name": "stdout"
        }
      ]
    },
    {
      "cell_type": "code",
      "metadata": {
        "id": "GoXoQ4tucvOH",
        "colab_type": "code",
        "colab": {}
      },
      "source": [
        "alice.compile(loss='mse', optimizer='sgd')\n",
        "bob.compile(loss='mse', optimizer='sgd')\n",
        "eve.compile(loss='mse', optimizer='sgd')\n",
        "\n",
        "if False:\n",
        "    alice.summary()\n",
        "    bob.summary()\n",
        "    eve.summary()\n",
        "    \n",
        "alice_op = alice([alice_msg, alice_key])\n",
        "bob_op = bob( [alice_op, bob_key] )\n",
        "eve_op = eve( alice_op )\n",
        "\n",
        "eve_loss = K.mean(  K.sum(K.abs(alice_msg - eve_op), axis=-1)  )\n",
        "\n",
        "bob_loss = K.mean(  K.sum(K.abs(alice_msg - bob_op), axis=-1)  )\n",
        "ab_loss = bob_loss + K.square(msg/2 - eve_loss)/( (msg//2)**2 )\n",
        "\n",
        "ab_optimizer = RMSprop(lr=0.001)\n",
        "eve_optimizer = RMSprop(lr=0.001) \n",
        "\n",
        "ab_model = Model([alice_msg, alice_key, bob_key], bob_op, name='ab_model')\n",
        "ab_model.add_loss(ab_loss)\n",
        "ab_model.compile(optimizer=ab_optimizer)\n",
        "\n",
        "alice.trainable = False\n",
        "eve_model = Model([alice_msg, alice_key], eve_op, name='eve_model')\n",
        "eve_model.add_loss(eve_loss)\n",
        "eve_model.compile(optimizer=eve_optimizer)"
      ],
      "execution_count": null,
      "outputs": []
    },
    {
      "cell_type": "code",
      "metadata": {
        "id": "t3abrlOGc0cx",
        "colab_type": "code",
        "colab": {}
      },
      "source": [
        "ab_losses = []\n",
        "bob_losses = []\n",
        "eve_losses = []\n",
        "\n",
        "m_train = 2**(msg) \n",
        "n_epochs = 20\n",
        "batch_size = 512\n",
        "n_batches = m_train // batch_size\n",
        "\n",
        "ab_train = 1\n",
        "eve_train = 2\n",
        "\n"
      ],
      "execution_count": null,
      "outputs": []
    },
    {
      "cell_type": "code",
      "metadata": {
        "id": "dilv5oIhals7",
        "colab_type": "code",
        "colab": {
          "base_uri": "https://localhost:8080/",
          "height": 425
        },
        "outputId": "d5a92412-d807-4d53-a1e2-836f66d1ca9f"
      },
      "source": [
        "epoch = 0\n",
        "print(\"\\n\\nTraining for\", n_epochs, \"epochs with\", n_batches, \"batches of size\", batch_size)\n",
        "\n",
        "while epoch < n_epochs:\n",
        "    ab_losses0 = []\n",
        "    bob_losses0 = []\n",
        "    eve_losses0 = []\n",
        "    for i in range(n_batches):\n",
        "        alice.trainable = True\n",
        "        for cycle in range(ab_train):\n",
        "            m_batch = np.random.randint(0, 2, msg * batch_size).reshape(batch_size, msg)\n",
        "            k_batch = np.random.randint(0, 2, key * batch_size).reshape(batch_size, key)\n",
        "            loss = ab_model.train_on_batch([m_batch, k_batch, k_batch], None)\n",
        "        \n",
        "        ab_losses0.append(loss)\n",
        "        ab_losses.append(loss)\n",
        "        ab_avg = np.mean(ab_losses0)\n",
        "            \n",
        "        alice_encipher = alice.predict([m_batch, k_batch])\n",
        "        bob_plaintxt = bob.predict([alice_encipher, k_batch])\n",
        "        loss = np.mean(  np.sum( np.abs(m_batch - bob_plaintxt), axis=-1)  )\n",
        "        bob_losses0.append(loss)\n",
        "        bob_losses.append(loss)\n",
        "        bob_avg = np.mean(bob_losses0)\n",
        "        \n",
        "        alice.trainable = False\n",
        "        for cycle in range(eve_train):\n",
        "            m_batch = np.random.randint(0, 2, msg * batch_size).reshape(batch_size, msg)\n",
        "            k_batch = np.random.randint(0, 2, key * batch_size).reshape(batch_size, key)\n",
        "            loss = eve_model.train_on_batch([m_batch, k_batch], None)\n",
        "        \n",
        "        eve_losses0.append(loss)\n",
        "        eve_losses.append(loss)\n",
        "        eve_avg = np.mean(eve_losses0)\n",
        "        \n",
        "    print(\"\\rEpoch\",epoch+1, \" | ab: \", ab_avg, \"| eve: \",eve_avg,\" | bob: \", bob_avg)\n",
        "    epoch += 1\n",
        "    \n",
        "print('Training completed.')"
      ],
      "execution_count": null,
      "outputs": [
        {
          "output_type": "stream",
          "text": [
            "\n",
            "\n",
            "Training for 20 epochs with 128 batches of size 512\n",
            "Epoch 1  | ab:  7.546931 | eve:  6.7480326  | bob:  7.488077464454818\n",
            "Epoch 2  | ab:  5.0336857 | eve:  3.7134595  | bob:  4.695644444230766\n",
            "Epoch 3  | ab:  2.8680713 | eve:  1.9381778  | bob:  2.2528576807758327\n",
            "Epoch 4  | ab:  1.7374909 | eve:  1.1919496  | bob:  0.9820539776351325\n",
            "Epoch 5  | ab:  1.1260893 | eve:  1.117154  | bob:  0.3636154850755702\n",
            "Epoch 6  | ab:  0.80852926 | eve:  1.58075  | bob:  0.1485953043934387\n",
            "Epoch 7  | ab:  0.6345993 | eve:  2.1911492  | bob:  0.09614374311604479\n",
            "Epoch 8  | ab:  0.5213202 | eve:  2.7104561  | bob:  0.07462473336408948\n",
            "Epoch 9  | ab:  0.443615 | eve:  3.150886  | bob:  0.0660632693552543\n",
            "Epoch 10  | ab:  0.39435804 | eve:  3.479672  | bob:  0.06521360474653193\n",
            "Epoch 11  | ab:  0.36359632 | eve:  3.728713  | bob:  0.0698586980388427\n",
            "Epoch 12  | ab:  0.32574758 | eve:  3.9428077  | bob:  0.06362784934708543\n",
            "Epoch 13  | ab:  0.32089448 | eve:  4.097573  | bob:  0.07428981667135304\n",
            "Epoch 14  | ab:  0.3027335 | eve:  4.231002  | bob:  0.0767583009678674\n",
            "Epoch 15  | ab:  0.29368687 | eve:  4.302914  | bob:  0.07353780750281658\n",
            "Epoch 16  | ab:  0.2831492 | eve:  4.3773384  | bob:  0.07497113201998218\n",
            "Epoch 17  | ab:  0.2833466 | eve:  4.427885  | bob:  0.07794594671258892\n",
            "Epoch 18  | ab:  0.28029698 | eve:  4.471846  | bob:  0.08010398695432741\n",
            "Epoch 19  | ab:  0.27025276 | eve:  4.501815  | bob:  0.0741725503262387\n",
            "Epoch 20  | ab:  0.2699495 | eve:  4.5252657  | bob:  0.07996816611512259\n",
            "Training completed.\n"
          ],
          "name": "stdout"
        }
      ]
    },
    {
      "cell_type": "code",
      "metadata": {
        "id": "NjTe6E30bGlB",
        "colab_type": "code",
        "colab": {
          "base_uri": "https://localhost:8080/",
          "height": 34
        },
        "outputId": "350dce17-b3dc-45d2-a6e3-47dea0906e00"
      },
      "source": [
        "len(ab_losses)"
      ],
      "execution_count": null,
      "outputs": [
        {
          "output_type": "execute_result",
          "data": {
            "text/plain": [
              "2560"
            ]
          },
          "metadata": {
            "tags": []
          },
          "execution_count": 43
        }
      ]
    },
    {
      "cell_type": "code",
      "metadata": {
        "id": "E85idyVFdGMP",
        "colab_type": "code",
        "colab": {
          "base_uri": "https://localhost:8080/",
          "height": 283
        },
        "outputId": "ca7f3de7-7c12-44eb-cfb4-1c65f9b81bb7"
      },
      "source": [
        "\n",
        "plt.figure(figsize=(7, 4))\n",
        "plt.plot(ab_losses, label='Alice-Bob')\n",
        "plt.plot(bob_losses, label='Bob')\n",
        "plt.plot(eve_losses, label='Eve')\n",
        "\n",
        "plt.xlabel(\"Iterations\", fontsize=14)\n",
        "plt.ylabel(\"Loss\", fontsize=14)\n",
        "plt.legend(fontsize=13)\n",
        "plt.show()"
      ],
      "execution_count": null,
      "outputs": [
        {
          "output_type": "display_data",
          "data": {
            "image/png": "[encoded data removed]",
            "text/plain": [
              "<Figure size 504x288 with 1 Axes>"
            ]
          },
          "metadata": {
            "tags": []
          }
        }
      ]
    },
    {
      "cell_type": "code",
      "metadata": {
        "id": "9ogwildqduZL",
        "colab_type": "code",
        "colab": {
          "base_uri": "https://localhost:8080/",
          "height": 170
        },
        "outputId": "eacda66f-9291-479f-dc4f-66d36b3894f1"
      },
      "source": [
        "samples = 20000\n",
        "\n",
        "m_batch = np.random.randint(0, 2, msg * samples).reshape(samples, msg)\n",
        "k_batch = np.random.randint(0, 2, msg * samples).reshape(samples, msg)\n",
        "print(m_batch[68,])\n",
        "print(k_batch[68,])\n",
        "alice_encipher = alice.predict([m_batch, k_batch])\n",
        "print(alice_encipher[68,])\n",
        "bob_plaintxt = (bob.predict([alice_encipher, k_batch]) > 0.5).astype(int)\n",
        "print(bob_plaintxt[68,])\n",
        "eve_plaintxt = (eve.predict(alice_encipher) > 0.5).astype(int)\n",
        "print(eve_plaintxt[68,])\n",
        "bob_diff = np.abs(m_batch - bob_plaintxt)\n",
        "bob_total = np.sum(bob_diff, axis=-1)\n",
        "eve_diff = np.abs(m_batch - eve_plaintxt)\n",
        "eve_total = np.sum(eve_diff, axis=-1)\n",
        "\n",
        "print(\"Bob is \",100.0*np.sum(bob_total == 0) / samples,'% correct')\n",
        "print(\"Eve is \",100.0*np.sum(eve_total == 0) / samples,'% correct')"
      ],
      "execution_count": null,
      "outputs": [
        {
          "output_type": "stream",
          "text": [
            "[0 1 0 1 1 1 1 1 0 0 0 1 0 1 0 0]\n",
            "[0 1 1 0 0 1 0 1 0 0 1 1 1 1 0 0]\n",
            "[0.24208611 0.4327162  0.52912605 0.21150425 0.38251728 0.5678212\n",
            " 0.6677761  0.3689691  0.37090844 0.43058178 0.58825314 0.5506817\n",
            " 0.43998745 0.46891993 0.46717468 0.40968207]\n",
            "[0 1 0 1 1 1 1 1 0 0 0 1 0 1 0 0]\n",
            "[0 1 0 0 0 1 1 0 0 1 0 1 0 1 0 0]\n",
            "Bob is  60.165 % correct\n",
            "Eve is  0.29 % correct\n"
          ],
          "name": "stdout"
        }
      ]
    }
  ]
}